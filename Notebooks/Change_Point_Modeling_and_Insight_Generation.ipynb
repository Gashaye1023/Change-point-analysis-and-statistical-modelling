{
 "cells": [
  {
   "cell_type": "code",
   "execution_count": 20,
   "id": "c2befed8",
   "metadata": {},
   "outputs": [],
   "source": [
    "import numpy as np\n",
    "import pandas as pd\n",
    "import matplotlib.pyplot as plt\n",
    "import pymc as pm\n",
    "from statsmodels.tsa.stattools import adfuller\n",
    "import arviz as az # Import arviz to handle the trace object\n",
    "import warnings\n",
    "warnings.filterwarnings(\"ignore\")\n"
   ]
  },
  {
   "cell_type": "code",
   "execution_count": 23,
   "id": "fe22ba33",
   "metadata": {},
   "outputs": [],
   "source": [
    "df=pd.read_csv('../Data/BrentOilPrices.csv')"
   ]
  },
  {
   "cell_type": "code",
   "execution_count": 24,
   "id": "6d7244c0",
   "metadata": {},
   "outputs": [
    {
     "data": {
      "text/html": [
       "<div>\n",
       "<style scoped>\n",
       "    .dataframe tbody tr th:only-of-type {\n",
       "        vertical-align: middle;\n",
       "    }\n",
       "\n",
       "    .dataframe tbody tr th {\n",
       "        vertical-align: top;\n",
       "    }\n",
       "\n",
       "    .dataframe thead th {\n",
       "        text-align: right;\n",
       "    }\n",
       "</style>\n",
       "<table border=\"1\" class=\"dataframe\">\n",
       "  <thead>\n",
       "    <tr style=\"text-align: right;\">\n",
       "      <th></th>\n",
       "      <th>Date</th>\n",
       "      <th>Price</th>\n",
       "    </tr>\n",
       "  </thead>\n",
       "  <tbody>\n",
       "    <tr>\n",
       "      <th>0</th>\n",
       "      <td>20-May-87</td>\n",
       "      <td>18.63</td>\n",
       "    </tr>\n",
       "    <tr>\n",
       "      <th>1</th>\n",
       "      <td>21-May-87</td>\n",
       "      <td>18.45</td>\n",
       "    </tr>\n",
       "    <tr>\n",
       "      <th>2</th>\n",
       "      <td>22-May-87</td>\n",
       "      <td>18.55</td>\n",
       "    </tr>\n",
       "    <tr>\n",
       "      <th>3</th>\n",
       "      <td>25-May-87</td>\n",
       "      <td>18.60</td>\n",
       "    </tr>\n",
       "    <tr>\n",
       "      <th>4</th>\n",
       "      <td>26-May-87</td>\n",
       "      <td>18.63</td>\n",
       "    </tr>\n",
       "    <tr>\n",
       "      <th>...</th>\n",
       "      <td>...</td>\n",
       "      <td>...</td>\n",
       "    </tr>\n",
       "    <tr>\n",
       "      <th>9006</th>\n",
       "      <td>Nov 08, 2022</td>\n",
       "      <td>96.85</td>\n",
       "    </tr>\n",
       "    <tr>\n",
       "      <th>9007</th>\n",
       "      <td>Nov 09, 2022</td>\n",
       "      <td>93.05</td>\n",
       "    </tr>\n",
       "    <tr>\n",
       "      <th>9008</th>\n",
       "      <td>Nov 10, 2022</td>\n",
       "      <td>94.25</td>\n",
       "    </tr>\n",
       "    <tr>\n",
       "      <th>9009</th>\n",
       "      <td>Nov 11, 2022</td>\n",
       "      <td>96.37</td>\n",
       "    </tr>\n",
       "    <tr>\n",
       "      <th>9010</th>\n",
       "      <td>Nov 14, 2022</td>\n",
       "      <td>93.59</td>\n",
       "    </tr>\n",
       "  </tbody>\n",
       "</table>\n",
       "<p>9011 rows × 2 columns</p>\n",
       "</div>"
      ],
      "text/plain": [
       "              Date  Price\n",
       "0        20-May-87  18.63\n",
       "1        21-May-87  18.45\n",
       "2        22-May-87  18.55\n",
       "3        25-May-87  18.60\n",
       "4        26-May-87  18.63\n",
       "...            ...    ...\n",
       "9006  Nov 08, 2022  96.85\n",
       "9007  Nov 09, 2022  93.05\n",
       "9008  Nov 10, 2022  94.25\n",
       "9009  Nov 11, 2022  96.37\n",
       "9010  Nov 14, 2022  93.59\n",
       "\n",
       "[9011 rows x 2 columns]"
      ]
     },
     "execution_count": 24,
     "metadata": {},
     "output_type": "execute_result"
    }
   ],
   "source": [
    "df"
   ]
  },
  {
   "cell_type": "code",
   "execution_count": 25,
   "id": "8e151e27",
   "metadata": {},
   "outputs": [],
   "source": [
    "df['Date'] = pd.to_datetime(df['Date'])\n",
    "df.set_index('Date', inplace=True)"
   ]
  },
  {
   "cell_type": "code",
   "execution_count": 31,
   "id": "705dbcd3",
   "metadata": {},
   "outputs": [
    {
     "data": {
      "text/html": [
       "<div>\n",
       "<style scoped>\n",
       "    .dataframe tbody tr th:only-of-type {\n",
       "        vertical-align: middle;\n",
       "    }\n",
       "\n",
       "    .dataframe tbody tr th {\n",
       "        vertical-align: top;\n",
       "    }\n",
       "\n",
       "    .dataframe thead th {\n",
       "        text-align: right;\n",
       "    }\n",
       "</style>\n",
       "<table border=\"1\" class=\"dataframe\">\n",
       "  <thead>\n",
       "    <tr style=\"text-align: right;\">\n",
       "      <th></th>\n",
       "      <th>Price</th>\n",
       "    </tr>\n",
       "    <tr>\n",
       "      <th>Date</th>\n",
       "      <th></th>\n",
       "    </tr>\n",
       "  </thead>\n",
       "  <tbody>\n",
       "    <tr>\n",
       "      <th>1987-05-20</th>\n",
       "      <td>18.63</td>\n",
       "    </tr>\n",
       "    <tr>\n",
       "      <th>1987-05-21</th>\n",
       "      <td>18.45</td>\n",
       "    </tr>\n",
       "    <tr>\n",
       "      <th>1987-05-22</th>\n",
       "      <td>18.55</td>\n",
       "    </tr>\n",
       "    <tr>\n",
       "      <th>1987-05-25</th>\n",
       "      <td>18.60</td>\n",
       "    </tr>\n",
       "    <tr>\n",
       "      <th>1987-05-26</th>\n",
       "      <td>18.63</td>\n",
       "    </tr>\n",
       "    <tr>\n",
       "      <th>...</th>\n",
       "      <td>...</td>\n",
       "    </tr>\n",
       "    <tr>\n",
       "      <th>2022-11-08</th>\n",
       "      <td>96.85</td>\n",
       "    </tr>\n",
       "    <tr>\n",
       "      <th>2022-11-09</th>\n",
       "      <td>93.05</td>\n",
       "    </tr>\n",
       "    <tr>\n",
       "      <th>2022-11-10</th>\n",
       "      <td>94.25</td>\n",
       "    </tr>\n",
       "    <tr>\n",
       "      <th>2022-11-11</th>\n",
       "      <td>96.37</td>\n",
       "    </tr>\n",
       "    <tr>\n",
       "      <th>2022-11-14</th>\n",
       "      <td>93.59</td>\n",
       "    </tr>\n",
       "  </tbody>\n",
       "</table>\n",
       "<p>9011 rows × 1 columns</p>\n",
       "</div>"
      ],
      "text/plain": [
       "            Price\n",
       "Date             \n",
       "1987-05-20  18.63\n",
       "1987-05-21  18.45\n",
       "1987-05-22  18.55\n",
       "1987-05-25  18.60\n",
       "1987-05-26  18.63\n",
       "...           ...\n",
       "2022-11-08  96.85\n",
       "2022-11-09  93.05\n",
       "2022-11-10  94.25\n",
       "2022-11-11  96.37\n",
       "2022-11-14  93.59\n",
       "\n",
       "[9011 rows x 1 columns]"
      ]
     },
     "execution_count": 31,
     "metadata": {},
     "output_type": "execute_result"
    }
   ],
   "source": [
    "df"
   ]
  },
  {
   "cell_type": "code",
   "execution_count": 36,
   "id": "fd99f7bb",
   "metadata": {},
   "outputs": [],
   "source": [
    "# Perform ADF Test for Stationarity\n",
    "def adf_test(data):\n",
    "    adf_result = adfuller(data['Price'])\n",
    "    print(f'ADF Statistic: {adf_result[0]:.2f}')\n",
    "    print(f'p-value: {adf_result[1]:.4f}')\n",
    "    return adf_result[1] < 0.05  # True if stationary"
   ]
  },
  {
   "cell_type": "code",
   "execution_count": null,
   "id": "b9211ef9",
   "metadata": {},
   "outputs": [],
   "source": [
    "\n",
    "# Bayesian Change Point Model\n",
    "def change_point_model(data):\n",
    "    prices = data['Price'].values\n",
    "    with pm.Model() as model:\n",
    "        tau = pm.DiscreteUniform('tau', lower=0, upper=len(prices) - 1)\n",
    "        mu_1 = pm.Normal('mu_1', mu=prices.mean(), sigma=10)\n",
    "        mu_2 = pm.Normal('mu_2', mu=prices.mean(), sigma=10)\n",
    "        idx = np.arange(len(prices))\n",
    "\n",
    "        mu = pm.Deterministic('mu', pm.math.switch(idx < tau, mu_1, mu_2))\n",
    "        likelihood = pm.Normal('y', mu=mu, sigma=1, observed=prices)\n",
    "        trace = pm.sample(2000, tune=1000, target_accept=0.95)\n",
    "    return trace"
   ]
  },
  {
   "cell_type": "code",
   "execution_count": 38,
   "id": "c4cbe22d",
   "metadata": {},
   "outputs": [],
   "source": [
    "# Plotting Change Point Results\n",
    "def plot_change_points(trace):\n",
    "    # Access the 'tau' samples from the posterior group of the trace\n",
    "    tau_samples = trace.posterior['tau'].values.flatten()\n",
    "    \n",
    "    plt.figure(figsize=(10, 5))\n",
    "    plt.hist(tau_samples, bins=30, alpha=0.5)\n",
    "    plt.xlabel('Change Point (tau)')\n",
    "    plt.ylabel('Frequency')\n",
    "    plt.title('Posterior Distribution of Change Point')\n",
    "    plt.show()"
   ]
  },
  {
   "cell_type": "code",
   "execution_count": 39,
   "id": "c02cf23e",
   "metadata": {},
   "outputs": [
    {
     "name": "stdout",
     "output_type": "stream",
     "text": [
      "ADF Statistic: -1.99\n",
      "p-value: 0.2893\n",
      "Stationary: False\n",
      "Fitting Bayesian Change Point Model...\n"
     ]
    },
    {
     "name": "stderr",
     "output_type": "stream",
     "text": [
      "Multiprocess sampling (4 chains in 4 jobs)\n",
      "CompoundStep\n",
      ">Metropolis: [tau]\n",
      ">NUTS: [mu_1, mu_2]\n"
     ]
    },
    {
     "data": {
      "text/html": [
       "<pre style=\"white-space:pre;overflow-x:auto;line-height:normal;font-family:Menlo,'DejaVu Sans Mono',consolas,'Courier New',monospace\"></pre>\n"
      ],
      "text/plain": []
     },
     "metadata": {},
     "output_type": "display_data"
    },
    {
     "name": "stderr",
     "output_type": "stream",
     "text": [
      "Sampling 4 chains for 1_000 tune and 2_000 draw iterations (4_000 + 8_000 draws total) took 10 seconds.\n"
     ]
    },
    {
     "name": "stdout",
     "output_type": "stream",
     "text": [
      "Model fitting complete.\n"
     ]
    },
    {
     "data": {
      "image/png": "[encoded data removed]",
      "text/plain": [
       "<Figure size 1000x500 with 1 Axes>"
      ]
     },
     "metadata": {},
     "output_type": "display_data"
    },
    {
     "name": "stdout",
     "output_type": "stream",
     "text": [
      "Estimated Change Point Index: 4521\n",
      "Estimated Change Point Date: 2005-02-24 00:00:00\n",
      "Average Price Before Change: $21.42\n",
      "Average Price After Change: $75.61\n",
      "Percentage Change: 252.99%\n",
      "Note: The change point on 2005-02-24 is not a direct match for the OPEC Cut event on 2020-04-12.\n",
      "Note: The change point on 2005-02-24 is not a direct match for the COVID-19 Pandemic event on 2020-03-01.\n"
     ]
    }
   ],
   "source": [
    "# Main Execution\n",
    "if __name__ == \"__main__\":\n",
    "    # Perform stationarity test\n",
    "    is_stationary = adf_test(df)\n",
    "    print(f'Stationary: {is_stationary}')\n",
    "\n",
    "    # Fit Change Point Model\n",
    "    print(\"Fitting Bayesian Change Point Model...\")\n",
    "    trace = change_point_model(df)\n",
    "    print(\"Model fitting complete.\")\n",
    "\n",
    "    # Plot results\n",
    "    plot_change_points(trace)\n",
    "\n",
    "    # Analyzing change points\n",
    "    # Access the samples from the posterior group\n",
    "    change_point_estimate = np.mean(trace.posterior['tau'].values.flatten())\n",
    "    estimated_index = int(round(change_point_estimate))\n",
    "    estimated_date = df.index[estimated_index]\n",
    "    \n",
    "    print(f'Estimated Change Point Index: {estimated_index}')\n",
    "    print(f'Estimated Change Point Date: {estimated_date}')\n",
    "\n",
    "    # Quantifying impact\n",
    "    before_change = df['Price'].iloc[:estimated_index].mean()\n",
    "    after_change = df['Price'].iloc[estimated_index:].mean()\n",
    "    percentage_change = ((after_change - before_change) / before_change) * 100\n",
    "\n",
    "    print(f'Average Price Before Change: ${before_change:.2f}')\n",
    "    print(f'Average Price After Change: ${after_change:.2f}')\n",
    "    print(f'Percentage Change: {percentage_change:.2f}%')\n",
    "\n",
    "    # Associate with events (hypothetical)\n",
    "    events = {\n",
    "        \"OPEC Cut\": \"2020-04-12\",\n",
    "        \"COVID-19 Pandemic\": \"2020-03-01\"\n",
    "    }\n",
    "    \n",
    "    # Check if any event date is close to the estimated change point date\n",
    "    for event, date_str in events.items():\n",
    "        event_date = pd.to_datetime(date_str)\n",
    "        if event_date.date() == estimated_date.date():\n",
    "            print(f'Change point on {estimated_date.date()} is likely associated with {event}.')\n",
    "        else:\n",
    "            print(f'Note: The change point on {estimated_date.date()} is not a direct match for the {event} event on {event_date.date()}.')\n"
   ]
  }
 ],
 "metadata": {
  "kernelspec": {
   "display_name": ".venv",
   "language": "python",
   "name": "python3"
  },
  "language_info": {
   "codemirror_mode": {
    "name": "ipython",
    "version": 3
   },
   "file_extension": ".py",
   "mimetype": "text/x-python",
   "name": "python",
   "nbconvert_exporter": "python",
   "pygments_lexer": "ipython3",
   "version": "3.12.3"
  }
 },
 "nbformat": 4,
 "nbformat_minor": 5
}
